{
 "cells": [
  {
   "cell_type": "code",
   "execution_count": null,
   "metadata": {},
   "outputs": [],
   "source": []
  },
  {
   "cell_type": "code",
   "execution_count": null,
   "metadata": {},
   "outputs": [],
   "source": []
  },
  {
   "cell_type": "code",
   "execution_count": 1,
   "metadata": {},
   "outputs": [
    {
     "name": "stdout",
     "output_type": "stream",
     "text": [
      "{'Author': 'Cámara de Diputados del H. Congreso de la Unión', 'CreationDate': \"D:20210122200051-06'00'\", 'Creator': 'Microsoft® Office Word 2007', 'ModDate': \"D:20210122200112-06'00'\", 'Producer': 'Microsoft® Office Word 2007', 'Title': 'Código Civil Federal'}\n"
     ]
    }
   ],
   "source": [
    "import pdfplumber\n",
    "\n",
    "my_pdf = pdfplumber.open(\"codigocivilfederal.pdf\")\n",
    "info = my_pdf.doc.info[0]  # Access the first item in the list\n",
    "\n",
    "decoded_info = {}\n",
    "for key, value in info.items():\n",
    "    if isinstance(value, bytes):\n",
    "        try:\n",
    "            decoded_info[key] = value.decode('utf-8')  # Try decoding with utf-8\n",
    "        except UnicodeDecodeError:\n",
    "            decoded_info[key] = value.decode('latin-1')  # Fallback to latin-1 if utf-8 fails\n",
    "    else:\n",
    "        decoded_info[key] = value\n",
    "\n",
    "print(decoded_info)\n"
   ]
  }
 ],
 "metadata": {
  "kernelspec": {
   "display_name": "lawsnpro",
   "language": "python",
   "name": "python3"
  },
  "language_info": {
   "codemirror_mode": {
    "name": "ipython",
    "version": 3
   },
   "file_extension": ".py",
   "mimetype": "text/x-python",
   "name": "python",
   "nbconvert_exporter": "python",
   "pygments_lexer": "ipython3",
   "version": "3.8.16"
  },
  "orig_nbformat": 4
 },
 "nbformat": 4,
 "nbformat_minor": 2
}
